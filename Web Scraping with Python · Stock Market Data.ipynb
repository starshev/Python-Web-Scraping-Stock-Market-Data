{
 "cells": [
  {
   "cell_type": "markdown",
   "metadata": {},
   "source": [
    " "
   ]
  },
  {
   "cell_type": "markdown",
   "id": "735da23b-23bb-4ae4-9145-ccb07b6d0e37",
   "metadata": {},
   "source": [
    "# Web Scraping with Python · Stock Market Data"
   ]
  },
  {
   "cell_type": "markdown",
   "id": "a3a6fc61-79d4-4ff4-945a-2dd5bb2ebc37",
   "metadata": {},
   "source": [
    "Completed by [Anton Starshev](http://linkedin.com/in/starshev) on 25/02/2024"
   ]
  },
  {
   "cell_type": "markdown",
   "metadata": {},
   "source": [
    "### Context"
   ]
  },
  {
   "cell_type": "markdown",
   "metadata": {},
   "source": [
    "The task is to extract stock data for specific companies using the `yfinance` library or by making HTTP requests with the `requests` library to a web page. Then, parse the data using the `BeautifulSoup` library and convert it into a pandas DataFrame."
   ]
  },
  {
   "cell_type": "markdown",
   "metadata": {},
   "source": [
    "### Data"
   ]
  },
  {
   "cell_type": "markdown",
   "metadata": {},
   "source": [
    "Links for html pages contating the desired tables are saved into the following variables in advance:\n",
    "\n",
    "* `url_tsla` for task 2\n",
    "* `url_gme` for task 4"
   ]
  },
  {
   "cell_type": "markdown",
   "metadata": {},
   "source": [
    "### Execution"
   ]
  },
  {
   "cell_type": "markdown",
   "metadata": {},
   "source": [
    "Imported all necessary libraries."
   ]
  },
  {
   "cell_type": "code",
   "execution_count": 72,
   "id": "0f46de11-c8f9-46f7-9d0d-bd449cb080dd",
   "metadata": {},
   "outputs": [],
   "source": [
    "import pandas as pd\n",
    "import requests\n",
    "import yfinance as yf\n",
    "from bs4 import BeautifulSoup"
   ]
  },
  {
   "cell_type": "markdown",
   "id": "6671cf89-13b4-428c-a9c0-e032020bcf1b",
   "metadata": {},
   "source": [
    "**Task 1:** Using the ticker object, extract stock information about Tesla company and save it in a dataframe named `tesla_data`, given that its ticker symbol is `TSLA`."
   ]
  },
  {
   "cell_type": "markdown",
   "id": "ee9f3dea-a42a-450f-afac-40ecc69c10d2",
   "metadata": {},
   "source": [
    "Created a ticker object for `TSLA` ticker."
   ]
  },
  {
   "cell_type": "code",
   "execution_count": 4,
   "id": "03772d6c-bae6-4c64-a07e-9ccb5ff8842f",
   "metadata": {},
   "outputs": [],
   "source": [
    "ticker = yf.Ticker('TSLA')"
   ]
  },
  {
   "cell_type": "markdown",
   "id": "75d91b47-dff8-42b8-b19d-0c12d8950e69",
   "metadata": {},
   "source": [
    "Using the ticker object, extracted stock information and saved it in a dataframe named `tesla_data`. Set the `period` parameter to `max` in order to get information for the maximum amount of time."
   ]
  },
  {
   "cell_type": "code",
   "execution_count": 75,
   "id": "8be18079-8b77-4e4d-ae11-7480930963ce",
   "metadata": {},
   "outputs": [
    {
     "data": {
      "text/html": [
       "<div>\n",
       "<style scoped>\n",
       "    .dataframe tbody tr th:only-of-type {\n",
       "        vertical-align: middle;\n",
       "    }\n",
       "\n",
       "    .dataframe tbody tr th {\n",
       "        vertical-align: top;\n",
       "    }\n",
       "\n",
       "    .dataframe thead th {\n",
       "        text-align: right;\n",
       "    }\n",
       "</style>\n",
       "<table border=\"1\" class=\"dataframe\">\n",
       "  <thead>\n",
       "    <tr style=\"text-align: right;\">\n",
       "      <th></th>\n",
       "      <th>Date</th>\n",
       "      <th>Open</th>\n",
       "      <th>High</th>\n",
       "      <th>Low</th>\n",
       "      <th>Close</th>\n",
       "      <th>Volume</th>\n",
       "      <th>Dividends</th>\n",
       "      <th>Stock Splits</th>\n",
       "    </tr>\n",
       "  </thead>\n",
       "  <tbody>\n",
       "    <tr>\n",
       "      <th>0</th>\n",
       "      <td>2002-02-13 00:00:00-05:00</td>\n",
       "      <td>1.620129</td>\n",
       "      <td>1.693350</td>\n",
       "      <td>1.603296</td>\n",
       "      <td>1.691667</td>\n",
       "      <td>76216000</td>\n",
       "      <td>0.0</td>\n",
       "      <td>0.0</td>\n",
       "    </tr>\n",
       "    <tr>\n",
       "      <th>1</th>\n",
       "      <td>2002-02-14 00:00:00-05:00</td>\n",
       "      <td>1.712707</td>\n",
       "      <td>1.716074</td>\n",
       "      <td>1.670626</td>\n",
       "      <td>1.683250</td>\n",
       "      <td>11021600</td>\n",
       "      <td>0.0</td>\n",
       "      <td>0.0</td>\n",
       "    </tr>\n",
       "    <tr>\n",
       "      <th>2</th>\n",
       "      <td>2002-02-15 00:00:00-05:00</td>\n",
       "      <td>1.683250</td>\n",
       "      <td>1.687458</td>\n",
       "      <td>1.658001</td>\n",
       "      <td>1.674834</td>\n",
       "      <td>8389600</td>\n",
       "      <td>0.0</td>\n",
       "      <td>0.0</td>\n",
       "    </tr>\n",
       "    <tr>\n",
       "      <th>3</th>\n",
       "      <td>2002-02-19 00:00:00-05:00</td>\n",
       "      <td>1.666418</td>\n",
       "      <td>1.666418</td>\n",
       "      <td>1.578047</td>\n",
       "      <td>1.607504</td>\n",
       "      <td>7410400</td>\n",
       "      <td>0.0</td>\n",
       "      <td>0.0</td>\n",
       "    </tr>\n",
       "    <tr>\n",
       "      <th>4</th>\n",
       "      <td>2002-02-20 00:00:00-05:00</td>\n",
       "      <td>1.615920</td>\n",
       "      <td>1.662210</td>\n",
       "      <td>1.603296</td>\n",
       "      <td>1.662210</td>\n",
       "      <td>6892800</td>\n",
       "      <td>0.0</td>\n",
       "      <td>0.0</td>\n",
       "    </tr>\n",
       "    <tr>\n",
       "      <th>...</th>\n",
       "      <td>...</td>\n",
       "      <td>...</td>\n",
       "      <td>...</td>\n",
       "      <td>...</td>\n",
       "      <td>...</td>\n",
       "      <td>...</td>\n",
       "      <td>...</td>\n",
       "      <td>...</td>\n",
       "    </tr>\n",
       "    <tr>\n",
       "      <th>5659</th>\n",
       "      <td>2024-08-08 00:00:00-04:00</td>\n",
       "      <td>21.010000</td>\n",
       "      <td>21.879999</td>\n",
       "      <td>20.809999</td>\n",
       "      <td>21.750000</td>\n",
       "      <td>5439700</td>\n",
       "      <td>0.0</td>\n",
       "      <td>0.0</td>\n",
       "    </tr>\n",
       "    <tr>\n",
       "      <th>5660</th>\n",
       "      <td>2024-08-09 00:00:00-04:00</td>\n",
       "      <td>21.510000</td>\n",
       "      <td>22.170000</td>\n",
       "      <td>21.459999</td>\n",
       "      <td>21.930000</td>\n",
       "      <td>4828900</td>\n",
       "      <td>0.0</td>\n",
       "      <td>0.0</td>\n",
       "    </tr>\n",
       "    <tr>\n",
       "      <th>5661</th>\n",
       "      <td>2024-08-12 00:00:00-04:00</td>\n",
       "      <td>21.980000</td>\n",
       "      <td>22.270000</td>\n",
       "      <td>21.450001</td>\n",
       "      <td>21.879999</td>\n",
       "      <td>4449100</td>\n",
       "      <td>0.0</td>\n",
       "      <td>0.0</td>\n",
       "    </tr>\n",
       "    <tr>\n",
       "      <th>5662</th>\n",
       "      <td>2024-08-13 00:00:00-04:00</td>\n",
       "      <td>21.959999</td>\n",
       "      <td>22.379999</td>\n",
       "      <td>21.860001</td>\n",
       "      <td>22.270000</td>\n",
       "      <td>3904400</td>\n",
       "      <td>0.0</td>\n",
       "      <td>0.0</td>\n",
       "    </tr>\n",
       "    <tr>\n",
       "      <th>5663</th>\n",
       "      <td>2024-08-14 00:00:00-04:00</td>\n",
       "      <td>22.340000</td>\n",
       "      <td>22.724001</td>\n",
       "      <td>22.059999</td>\n",
       "      <td>22.169800</td>\n",
       "      <td>1194844</td>\n",
       "      <td>0.0</td>\n",
       "      <td>0.0</td>\n",
       "    </tr>\n",
       "  </tbody>\n",
       "</table>\n",
       "<p>5664 rows × 8 columns</p>\n",
       "</div>"
      ],
      "text/plain": [
       "                          Date       Open       High        Low      Close  \\\n",
       "0    2002-02-13 00:00:00-05:00   1.620129   1.693350   1.603296   1.691667   \n",
       "1    2002-02-14 00:00:00-05:00   1.712707   1.716074   1.670626   1.683250   \n",
       "2    2002-02-15 00:00:00-05:00   1.683250   1.687458   1.658001   1.674834   \n",
       "3    2002-02-19 00:00:00-05:00   1.666418   1.666418   1.578047   1.607504   \n",
       "4    2002-02-20 00:00:00-05:00   1.615920   1.662210   1.603296   1.662210   \n",
       "...                        ...        ...        ...        ...        ...   \n",
       "5659 2024-08-08 00:00:00-04:00  21.010000  21.879999  20.809999  21.750000   \n",
       "5660 2024-08-09 00:00:00-04:00  21.510000  22.170000  21.459999  21.930000   \n",
       "5661 2024-08-12 00:00:00-04:00  21.980000  22.270000  21.450001  21.879999   \n",
       "5662 2024-08-13 00:00:00-04:00  21.959999  22.379999  21.860001  22.270000   \n",
       "5663 2024-08-14 00:00:00-04:00  22.340000  22.724001  22.059999  22.169800   \n",
       "\n",
       "        Volume  Dividends  Stock Splits  \n",
       "0     76216000        0.0           0.0  \n",
       "1     11021600        0.0           0.0  \n",
       "2      8389600        0.0           0.0  \n",
       "3      7410400        0.0           0.0  \n",
       "4      6892800        0.0           0.0  \n",
       "...        ...        ...           ...  \n",
       "5659   5439700        0.0           0.0  \n",
       "5660   4828900        0.0           0.0  \n",
       "5661   4449100        0.0           0.0  \n",
       "5662   3904400        0.0           0.0  \n",
       "5663   1194844        0.0           0.0  \n",
       "\n",
       "[5664 rows x 8 columns]"
      ]
     },
     "execution_count": 75,
     "metadata": {},
     "output_type": "execute_result"
    }
   ],
   "source": [
    "tesla_data = ticker.history(period = 'max')\n",
    "tesla_data.reset_index(inplace = True)\n",
    "\n",
    "tesla_data"
   ]
  },
  {
   "cell_type": "markdown",
   "id": "7c677e89-bc3d-4013-8804-8eb144dacf90",
   "metadata": {},
   "source": [
    "**Task 2.1:** Use web scraping to extract Tesla Quarterly Revenue data into a dataframe named `tsla_q_rev` from the given webpage source: `url_tsla`.\n"
   ]
  },
  {
   "cell_type": "markdown",
   "metadata": {},
   "source": [
    "Made an HTTP request to a source url and saved the response into a variable."
   ]
  },
  {
   "cell_type": "code",
   "execution_count": 89,
   "metadata": {},
   "outputs": [],
   "source": [
    "html_tsla = requests.get(url_tsla)"
   ]
  },
  {
   "cell_type": "markdown",
   "id": "d655373e-8b19-484d-9152-ba3b1bf2181c",
   "metadata": {},
   "source": [
    "Parsed the html code as a string using BeautifulSoup to find the desired table and save it into a variable."
   ]
  },
  {
   "cell_type": "code",
   "execution_count": 90,
   "metadata": {},
   "outputs": [
    {
     "name": "stdout",
     "output_type": "stream",
     "text": [
      "Tesla Revenue table is created.\n"
     ]
    }
   ],
   "source": [
    "soup = BeautifulSoup(html_tsla.text)\n",
    "tsla_tables = soup.find_all('table')\n",
    "\n",
    "for item in tsla_tables:\n",
    "    if 'tesla' in item.getText().lower() and 'quarterly' in item.getText().lower():\n",
    "        tsla_q_rev_table = item\n",
    "        break\n",
    "        \n",
    "if 'tsla_q_rev_table' in locals():\n",
    "    print('Tesla Revenue table is created.')\n",
    "else:\n",
    "    print('Tesla Revenue table was not found.')"
   ]
  },
  {
   "cell_type": "markdown",
   "metadata": {},
   "source": [
    "Extracted headers and rows from the table tag object, saved table into a dataframe and validated the names of columns."
   ]
  },
  {
   "cell_type": "code",
   "execution_count": 91,
   "metadata": {},
   "outputs": [
    {
     "data": {
      "text/html": [
       "<div>\n",
       "<style scoped>\n",
       "    .dataframe tbody tr th:only-of-type {\n",
       "        vertical-align: middle;\n",
       "    }\n",
       "\n",
       "    .dataframe tbody tr th {\n",
       "        vertical-align: top;\n",
       "    }\n",
       "\n",
       "    .dataframe thead th {\n",
       "        text-align: right;\n",
       "    }\n",
       "</style>\n",
       "<table border=\"1\" class=\"dataframe\">\n",
       "  <thead>\n",
       "    <tr style=\"text-align: right;\">\n",
       "      <th></th>\n",
       "      <th>Quarter</th>\n",
       "      <th>TSLA Revenue</th>\n",
       "    </tr>\n",
       "  </thead>\n",
       "  <tbody>\n",
       "    <tr>\n",
       "      <th>0</th>\n",
       "      <td>2022-09-30</td>\n",
       "      <td>$21,454</td>\n",
       "    </tr>\n",
       "    <tr>\n",
       "      <th>1</th>\n",
       "      <td>2022-06-30</td>\n",
       "      <td>$16,934</td>\n",
       "    </tr>\n",
       "    <tr>\n",
       "      <th>2</th>\n",
       "      <td>2022-03-31</td>\n",
       "      <td>$18,756</td>\n",
       "    </tr>\n",
       "    <tr>\n",
       "      <th>3</th>\n",
       "      <td>2021-12-31</td>\n",
       "      <td>$17,719</td>\n",
       "    </tr>\n",
       "    <tr>\n",
       "      <th>4</th>\n",
       "      <td>2021-09-30</td>\n",
       "      <td>$13,757</td>\n",
       "    </tr>\n",
       "    <tr>\n",
       "      <th>5</th>\n",
       "      <td>2021-06-30</td>\n",
       "      <td>$11,958</td>\n",
       "    </tr>\n",
       "    <tr>\n",
       "      <th>6</th>\n",
       "      <td>2021-03-31</td>\n",
       "      <td>$10,389</td>\n",
       "    </tr>\n",
       "    <tr>\n",
       "      <th>7</th>\n",
       "      <td>2020-12-31</td>\n",
       "      <td>$10,744</td>\n",
       "    </tr>\n",
       "    <tr>\n",
       "      <th>8</th>\n",
       "      <td>2020-09-30</td>\n",
       "      <td>$8,771</td>\n",
       "    </tr>\n",
       "    <tr>\n",
       "      <th>9</th>\n",
       "      <td>2020-06-30</td>\n",
       "      <td>$6,036</td>\n",
       "    </tr>\n",
       "  </tbody>\n",
       "</table>\n",
       "</div>"
      ],
      "text/plain": [
       "      Quarter TSLA Revenue\n",
       "0  2022-09-30      $21,454\n",
       "1  2022-06-30      $16,934\n",
       "2  2022-03-31      $18,756\n",
       "3  2021-12-31      $17,719\n",
       "4  2021-09-30      $13,757\n",
       "5  2021-06-30      $11,958\n",
       "6  2021-03-31      $10,389\n",
       "7  2020-12-31      $10,744\n",
       "8  2020-09-30       $8,771\n",
       "9  2020-06-30       $6,036"
      ]
     },
     "execution_count": 91,
     "metadata": {},
     "output_type": "execute_result"
    }
   ],
   "source": [
    "headers = [th.get_text() for th in tsla_q_rev_table.find_all('th')]\n",
    "\n",
    "rows = []\n",
    "for row in tsla_q_rev_table.find_all('tr')[1:]:\n",
    "    cells = [td.get_text() for td in row.find_all('td')]\n",
    "    rows.append(cells)\n",
    "\n",
    "if len(headers) != len(rows[0]):\n",
    "    headers = ['Quarter', 'TSLA Revenue'] \n",
    "    \n",
    "tsla_q_rev = pd.DataFrame(data = rows, columns = headers)\n",
    "\n",
    "tsla_q_rev.head(10)"
   ]
  },
  {
   "cell_type": "markdown",
   "id": "6ae5721e-ff47-4625-8021-f0b32ed22300",
   "metadata": {},
   "source": [
    "**Task 2.2:** Complete the same task as 2.1, but using just Pandas library: extract Tesla Quarterly Revenue data into a dataframe named `tsla_q_rev2` from the given webpage source: `url_tsla`."
   ]
  },
  {
   "cell_type": "markdown",
   "metadata": {},
   "source": [
    "Downloaded the HTML source data with Pandas into a list of dataframes."
   ]
  },
  {
   "cell_type": "code",
   "execution_count": 120,
   "id": "41ef172c-9cd3-49b1-a04c-3b88a7793883",
   "metadata": {},
   "outputs": [],
   "source": [
    "tsla_tables2 = pd.read_html(url_tsla)"
   ]
  },
  {
   "cell_type": "markdown",
   "metadata": {},
   "source": [
    "Identified the desired dataframe by keywords and saved it into a variable `tsla_q_rev_table2`."
   ]
  },
  {
   "cell_type": "code",
   "execution_count": 121,
   "metadata": {},
   "outputs": [
    {
     "name": "stdout",
     "output_type": "stream",
     "text": [
      "Tesla Revenue table is created.\n"
     ]
    }
   ],
   "source": [
    "for item in tsla_tables2:\n",
    "    if any('tesla' in word.lower() for word in item.columns) and any('quarterly' \n",
    "                                                               in word.lower() for word in item.columns):\n",
    "        tsla_q_rev2 = item\n",
    "        break\n",
    "        \n",
    "if 'tsla_q_rev2' in locals():\n",
    "    print('Tesla Revenue table is created.')\n",
    "else:\n",
    "    print('Tesla Revenue table was not found.')"
   ]
  },
  {
   "cell_type": "markdown",
   "metadata": {},
   "source": [
    "Modified column names and checked first 10 rows of the dataframe."
   ]
  },
  {
   "cell_type": "code",
   "execution_count": 122,
   "metadata": {},
   "outputs": [
    {
     "data": {
      "text/html": [
       "<div>\n",
       "<style scoped>\n",
       "    .dataframe tbody tr th:only-of-type {\n",
       "        vertical-align: middle;\n",
       "    }\n",
       "\n",
       "    .dataframe tbody tr th {\n",
       "        vertical-align: top;\n",
       "    }\n",
       "\n",
       "    .dataframe thead th {\n",
       "        text-align: right;\n",
       "    }\n",
       "</style>\n",
       "<table border=\"1\" class=\"dataframe\">\n",
       "  <thead>\n",
       "    <tr style=\"text-align: right;\">\n",
       "      <th></th>\n",
       "      <th>Quarter</th>\n",
       "      <th>TSLA Revenue</th>\n",
       "    </tr>\n",
       "  </thead>\n",
       "  <tbody>\n",
       "    <tr>\n",
       "      <th>0</th>\n",
       "      <td>2022-09-30</td>\n",
       "      <td>$21,454</td>\n",
       "    </tr>\n",
       "    <tr>\n",
       "      <th>1</th>\n",
       "      <td>2022-06-30</td>\n",
       "      <td>$16,934</td>\n",
       "    </tr>\n",
       "    <tr>\n",
       "      <th>2</th>\n",
       "      <td>2022-03-31</td>\n",
       "      <td>$18,756</td>\n",
       "    </tr>\n",
       "    <tr>\n",
       "      <th>3</th>\n",
       "      <td>2021-12-31</td>\n",
       "      <td>$17,719</td>\n",
       "    </tr>\n",
       "    <tr>\n",
       "      <th>4</th>\n",
       "      <td>2021-09-30</td>\n",
       "      <td>$13,757</td>\n",
       "    </tr>\n",
       "    <tr>\n",
       "      <th>5</th>\n",
       "      <td>2021-06-30</td>\n",
       "      <td>$11,958</td>\n",
       "    </tr>\n",
       "    <tr>\n",
       "      <th>6</th>\n",
       "      <td>2021-03-31</td>\n",
       "      <td>$10,389</td>\n",
       "    </tr>\n",
       "    <tr>\n",
       "      <th>7</th>\n",
       "      <td>2020-12-31</td>\n",
       "      <td>$10,744</td>\n",
       "    </tr>\n",
       "    <tr>\n",
       "      <th>8</th>\n",
       "      <td>2020-09-30</td>\n",
       "      <td>$8,771</td>\n",
       "    </tr>\n",
       "    <tr>\n",
       "      <th>9</th>\n",
       "      <td>2020-06-30</td>\n",
       "      <td>$6,036</td>\n",
       "    </tr>\n",
       "  </tbody>\n",
       "</table>\n",
       "</div>"
      ],
      "text/plain": [
       "      Quarter TSLA Revenue\n",
       "0  2022-09-30      $21,454\n",
       "1  2022-06-30      $16,934\n",
       "2  2022-03-31      $18,756\n",
       "3  2021-12-31      $17,719\n",
       "4  2021-09-30      $13,757\n",
       "5  2021-06-30      $11,958\n",
       "6  2021-03-31      $10,389\n",
       "7  2020-12-31      $10,744\n",
       "8  2020-09-30       $8,771\n",
       "9  2020-06-30       $6,036"
      ]
     },
     "execution_count": 122,
     "metadata": {},
     "output_type": "execute_result"
    }
   ],
   "source": [
    "tsla_q_rev2.columns = ['Quarter', 'TSLA Revenue']\n",
    "\n",
    "tsla_q_rev2.head(10)"
   ]
  },
  {
   "cell_type": "markdown",
   "id": "3a2f63d1-81e5-4b1c-8a6e-d9585e1cfbdd",
   "metadata": {},
   "source": [
    "**Task 3:** Using the ticker symbol `GME`, extract stock data for GameStop company.\n"
   ]
  },
  {
   "cell_type": "markdown",
   "metadata": {},
   "source": [
    "Created a ticket object."
   ]
  },
  {
   "cell_type": "code",
   "execution_count": 115,
   "id": "4f281b64-4b7c-42cd-bad7-5daf788696f3",
   "metadata": {},
   "outputs": [],
   "source": [
    "ticker = yf.Ticker('GME')"
   ]
  },
  {
   "cell_type": "markdown",
   "id": "fe9d69d9-2f44-425b-9de4-e3d9d698726d",
   "metadata": {},
   "source": [
    "Using the ticker object, extracted stock information and saved it in a dataframe named `gme_data`. Set the `period` parameter to `max` for the maximum amount of time."
   ]
  },
  {
   "cell_type": "code",
   "execution_count": 116,
   "id": "76f3fabe-0563-40e2-9978-40038fbfc2e6",
   "metadata": {},
   "outputs": [
    {
     "data": {
      "text/html": [
       "<div>\n",
       "<style scoped>\n",
       "    .dataframe tbody tr th:only-of-type {\n",
       "        vertical-align: middle;\n",
       "    }\n",
       "\n",
       "    .dataframe tbody tr th {\n",
       "        vertical-align: top;\n",
       "    }\n",
       "\n",
       "    .dataframe thead th {\n",
       "        text-align: right;\n",
       "    }\n",
       "</style>\n",
       "<table border=\"1\" class=\"dataframe\">\n",
       "  <thead>\n",
       "    <tr style=\"text-align: right;\">\n",
       "      <th></th>\n",
       "      <th>Date</th>\n",
       "      <th>Open</th>\n",
       "      <th>High</th>\n",
       "      <th>Low</th>\n",
       "      <th>Close</th>\n",
       "      <th>Volume</th>\n",
       "      <th>Dividends</th>\n",
       "      <th>Stock Splits</th>\n",
       "    </tr>\n",
       "  </thead>\n",
       "  <tbody>\n",
       "    <tr>\n",
       "      <th>0</th>\n",
       "      <td>2002-02-13 00:00:00-05:00</td>\n",
       "      <td>1.620128</td>\n",
       "      <td>1.693350</td>\n",
       "      <td>1.603296</td>\n",
       "      <td>1.691666</td>\n",
       "      <td>76216000</td>\n",
       "      <td>0.0</td>\n",
       "      <td>0.0</td>\n",
       "    </tr>\n",
       "    <tr>\n",
       "      <th>1</th>\n",
       "      <td>2002-02-14 00:00:00-05:00</td>\n",
       "      <td>1.712707</td>\n",
       "      <td>1.716074</td>\n",
       "      <td>1.670626</td>\n",
       "      <td>1.683250</td>\n",
       "      <td>11021600</td>\n",
       "      <td>0.0</td>\n",
       "      <td>0.0</td>\n",
       "    </tr>\n",
       "    <tr>\n",
       "      <th>2</th>\n",
       "      <td>2002-02-15 00:00:00-05:00</td>\n",
       "      <td>1.683251</td>\n",
       "      <td>1.687459</td>\n",
       "      <td>1.658002</td>\n",
       "      <td>1.674834</td>\n",
       "      <td>8389600</td>\n",
       "      <td>0.0</td>\n",
       "      <td>0.0</td>\n",
       "    </tr>\n",
       "    <tr>\n",
       "      <th>3</th>\n",
       "      <td>2002-02-19 00:00:00-05:00</td>\n",
       "      <td>1.666418</td>\n",
       "      <td>1.666418</td>\n",
       "      <td>1.578048</td>\n",
       "      <td>1.607504</td>\n",
       "      <td>7410400</td>\n",
       "      <td>0.0</td>\n",
       "      <td>0.0</td>\n",
       "    </tr>\n",
       "    <tr>\n",
       "      <th>4</th>\n",
       "      <td>2002-02-20 00:00:00-05:00</td>\n",
       "      <td>1.615920</td>\n",
       "      <td>1.662210</td>\n",
       "      <td>1.603296</td>\n",
       "      <td>1.662210</td>\n",
       "      <td>6892800</td>\n",
       "      <td>0.0</td>\n",
       "      <td>0.0</td>\n",
       "    </tr>\n",
       "    <tr>\n",
       "      <th>...</th>\n",
       "      <td>...</td>\n",
       "      <td>...</td>\n",
       "      <td>...</td>\n",
       "      <td>...</td>\n",
       "      <td>...</td>\n",
       "      <td>...</td>\n",
       "      <td>...</td>\n",
       "      <td>...</td>\n",
       "    </tr>\n",
       "    <tr>\n",
       "      <th>5659</th>\n",
       "      <td>2024-08-08 00:00:00-04:00</td>\n",
       "      <td>21.010000</td>\n",
       "      <td>21.879999</td>\n",
       "      <td>20.809999</td>\n",
       "      <td>21.750000</td>\n",
       "      <td>5439700</td>\n",
       "      <td>0.0</td>\n",
       "      <td>0.0</td>\n",
       "    </tr>\n",
       "    <tr>\n",
       "      <th>5660</th>\n",
       "      <td>2024-08-09 00:00:00-04:00</td>\n",
       "      <td>21.510000</td>\n",
       "      <td>22.170000</td>\n",
       "      <td>21.459999</td>\n",
       "      <td>21.930000</td>\n",
       "      <td>4828900</td>\n",
       "      <td>0.0</td>\n",
       "      <td>0.0</td>\n",
       "    </tr>\n",
       "    <tr>\n",
       "      <th>5661</th>\n",
       "      <td>2024-08-12 00:00:00-04:00</td>\n",
       "      <td>21.980000</td>\n",
       "      <td>22.270000</td>\n",
       "      <td>21.450001</td>\n",
       "      <td>21.879999</td>\n",
       "      <td>4449100</td>\n",
       "      <td>0.0</td>\n",
       "      <td>0.0</td>\n",
       "    </tr>\n",
       "    <tr>\n",
       "      <th>5662</th>\n",
       "      <td>2024-08-13 00:00:00-04:00</td>\n",
       "      <td>21.959999</td>\n",
       "      <td>22.379999</td>\n",
       "      <td>21.860001</td>\n",
       "      <td>22.270000</td>\n",
       "      <td>3913700</td>\n",
       "      <td>0.0</td>\n",
       "      <td>0.0</td>\n",
       "    </tr>\n",
       "    <tr>\n",
       "      <th>5663</th>\n",
       "      <td>2024-08-14 00:00:00-04:00</td>\n",
       "      <td>22.340000</td>\n",
       "      <td>22.724001</td>\n",
       "      <td>21.790001</td>\n",
       "      <td>21.990000</td>\n",
       "      <td>3353803</td>\n",
       "      <td>0.0</td>\n",
       "      <td>0.0</td>\n",
       "    </tr>\n",
       "  </tbody>\n",
       "</table>\n",
       "<p>5664 rows × 8 columns</p>\n",
       "</div>"
      ],
      "text/plain": [
       "                          Date       Open       High        Low      Close  \\\n",
       "0    2002-02-13 00:00:00-05:00   1.620128   1.693350   1.603296   1.691666   \n",
       "1    2002-02-14 00:00:00-05:00   1.712707   1.716074   1.670626   1.683250   \n",
       "2    2002-02-15 00:00:00-05:00   1.683251   1.687459   1.658002   1.674834   \n",
       "3    2002-02-19 00:00:00-05:00   1.666418   1.666418   1.578048   1.607504   \n",
       "4    2002-02-20 00:00:00-05:00   1.615920   1.662210   1.603296   1.662210   \n",
       "...                        ...        ...        ...        ...        ...   \n",
       "5659 2024-08-08 00:00:00-04:00  21.010000  21.879999  20.809999  21.750000   \n",
       "5660 2024-08-09 00:00:00-04:00  21.510000  22.170000  21.459999  21.930000   \n",
       "5661 2024-08-12 00:00:00-04:00  21.980000  22.270000  21.450001  21.879999   \n",
       "5662 2024-08-13 00:00:00-04:00  21.959999  22.379999  21.860001  22.270000   \n",
       "5663 2024-08-14 00:00:00-04:00  22.340000  22.724001  21.790001  21.990000   \n",
       "\n",
       "        Volume  Dividends  Stock Splits  \n",
       "0     76216000        0.0           0.0  \n",
       "1     11021600        0.0           0.0  \n",
       "2      8389600        0.0           0.0  \n",
       "3      7410400        0.0           0.0  \n",
       "4      6892800        0.0           0.0  \n",
       "...        ...        ...           ...  \n",
       "5659   5439700        0.0           0.0  \n",
       "5660   4828900        0.0           0.0  \n",
       "5661   4449100        0.0           0.0  \n",
       "5662   3913700        0.0           0.0  \n",
       "5663   3353803        0.0           0.0  \n",
       "\n",
       "[5664 rows x 8 columns]"
      ]
     },
     "execution_count": 116,
     "metadata": {},
     "output_type": "execute_result"
    }
   ],
   "source": [
    "gme_data = ticker.history(period = 'max')\n",
    "gme_data.reset_index(inplace = True)\n",
    "\n",
    "gme_data"
   ]
  },
  {
   "cell_type": "markdown",
   "id": "efbcd5d7-cd44-4dc2-a20f-5a79bddf8ea7",
   "metadata": {},
   "source": [
    "**Task 4:** Use web scraping to extract GameStop Quarterly Revenue data into a dataframe named `gme_q_rev` from the given webpage source: `url_gme`."
   ]
  },
  {
   "cell_type": "markdown",
   "metadata": {},
   "source": [
    "Downloaded the webpage via its given url."
   ]
  },
  {
   "cell_type": "code",
   "execution_count": 117,
   "id": "a60f1017-c668-4e16-a0ef-0011d071950d",
   "metadata": {},
   "outputs": [],
   "source": [
    "html_gme = requests.get(url_gme)"
   ]
  },
  {
   "cell_type": "markdown",
   "id": "ecf31ab0-49d8-468b-987e-aa310ae73278",
   "metadata": {},
   "source": [
    "Parsed the html data and extracted all tables from the webpage."
   ]
  },
  {
   "cell_type": "code",
   "execution_count": 135,
   "id": "54b0afca-76a4-4a83-938b-26b37c97d8a6",
   "metadata": {},
   "outputs": [],
   "source": [
    "soup = BeautifulSoup(html_gme.text)\n",
    "\n",
    "gme_tables = soup.findAll('table')"
   ]
  },
  {
   "cell_type": "markdown",
   "metadata": {},
   "source": [
    "Parsed table tags in order to detect the desired Quarterly Revenue table for GameStop."
   ]
  },
  {
   "cell_type": "code",
   "execution_count": 136,
   "metadata": {},
   "outputs": [
    {
     "name": "stdout",
     "output_type": "stream",
     "text": [
      "GameStop Revenue table is created.\n"
     ]
    }
   ],
   "source": [
    "for gme_table in gme_tables:\n",
    "    if any('gamestop' in th.getText().lower() \n",
    "           for th in gme_table.findAll('th')) and any('quarterly' in th.getText().lower() \n",
    "                                                      for th in gme_table.findAll('th')):\n",
    "        gme_q_rev_table = gme_table\n",
    "        break\n",
    "        \n",
    "if 'gme_q_rev_table' in locals():\n",
    "    print('GameStop Revenue table is created.')\n",
    "else:\n",
    "    print('GameStop Revenue table was not found.')"
   ]
  },
  {
   "cell_type": "markdown",
   "metadata": {},
   "source": [
    "Converted the table tag object into a dataframe, adjusted column names and previewed the final dataframe."
   ]
  },
  {
   "cell_type": "code",
   "execution_count": 137,
   "id": "f76fd90c-dfd1-48bf-aef7-a82bfffd2661",
   "metadata": {},
   "outputs": [
    {
     "data": {
      "text/html": [
       "<div>\n",
       "<style scoped>\n",
       "    .dataframe tbody tr th:only-of-type {\n",
       "        vertical-align: middle;\n",
       "    }\n",
       "\n",
       "    .dataframe tbody tr th {\n",
       "        vertical-align: top;\n",
       "    }\n",
       "\n",
       "    .dataframe thead th {\n",
       "        text-align: right;\n",
       "    }\n",
       "</style>\n",
       "<table border=\"1\" class=\"dataframe\">\n",
       "  <thead>\n",
       "    <tr style=\"text-align: right;\">\n",
       "      <th></th>\n",
       "      <th>Quarter</th>\n",
       "      <th>GME Revenue</th>\n",
       "    </tr>\n",
       "  </thead>\n",
       "  <tbody>\n",
       "    <tr>\n",
       "      <th>0</th>\n",
       "      <td>2020-04-30</td>\n",
       "      <td>$1,021</td>\n",
       "    </tr>\n",
       "    <tr>\n",
       "      <th>1</th>\n",
       "      <td>2020-01-31</td>\n",
       "      <td>$2,194</td>\n",
       "    </tr>\n",
       "    <tr>\n",
       "      <th>2</th>\n",
       "      <td>2019-10-31</td>\n",
       "      <td>$1,439</td>\n",
       "    </tr>\n",
       "    <tr>\n",
       "      <th>3</th>\n",
       "      <td>2019-07-31</td>\n",
       "      <td>$1,286</td>\n",
       "    </tr>\n",
       "    <tr>\n",
       "      <th>4</th>\n",
       "      <td>2019-04-30</td>\n",
       "      <td>$1,548</td>\n",
       "    </tr>\n",
       "    <tr>\n",
       "      <th>...</th>\n",
       "      <td>...</td>\n",
       "      <td>...</td>\n",
       "    </tr>\n",
       "    <tr>\n",
       "      <th>57</th>\n",
       "      <td>2006-01-31</td>\n",
       "      <td>$1,667</td>\n",
       "    </tr>\n",
       "    <tr>\n",
       "      <th>58</th>\n",
       "      <td>2005-10-31</td>\n",
       "      <td>$534</td>\n",
       "    </tr>\n",
       "    <tr>\n",
       "      <th>59</th>\n",
       "      <td>2005-07-31</td>\n",
       "      <td>$416</td>\n",
       "    </tr>\n",
       "    <tr>\n",
       "      <th>60</th>\n",
       "      <td>2005-04-30</td>\n",
       "      <td>$475</td>\n",
       "    </tr>\n",
       "    <tr>\n",
       "      <th>61</th>\n",
       "      <td>2005-01-31</td>\n",
       "      <td>$709</td>\n",
       "    </tr>\n",
       "  </tbody>\n",
       "</table>\n",
       "<p>62 rows × 2 columns</p>\n",
       "</div>"
      ],
      "text/plain": [
       "       Quarter GME Revenue\n",
       "0   2020-04-30      $1,021\n",
       "1   2020-01-31      $2,194\n",
       "2   2019-10-31      $1,439\n",
       "3   2019-07-31      $1,286\n",
       "4   2019-04-30      $1,548\n",
       "..         ...         ...\n",
       "57  2006-01-31      $1,667\n",
       "58  2005-10-31        $534\n",
       "59  2005-07-31        $416\n",
       "60  2005-04-30        $475\n",
       "61  2005-01-31        $709\n",
       "\n",
       "[62 rows x 2 columns]"
      ]
     },
     "execution_count": 137,
     "metadata": {},
     "output_type": "execute_result"
    }
   ],
   "source": [
    "gme_q_rev = pd.DataFrame(\n",
    "    [[td.getText() for td in tr.findAll('td')] for tr in gme_q_rev_table.findAll('tr')[1:]], \n",
    "    columns = ['Quarter', 'GME Revenue'])\n",
    "\n",
    "gme_q_rev"
   ]
  },
  {
   "cell_type": "markdown",
   "metadata": {},
   "source": [
    "### Acknowledgment"
   ]
  },
  {
   "cell_type": "markdown",
   "metadata": {},
   "source": [
    "I would like to express gratitude to IBM and Coursera for supporting the educational process and providing the opportunity to refine and showcase skills acquired during the courses by completing real-life scenario portfolio projects, such as this."
   ]
  },
  {
   "cell_type": "markdown",
   "metadata": {},
   "source": [
    "### Reference"
   ]
  },
  {
   "cell_type": "markdown",
   "id": "57c0423d-f53c-45c2-afcc-5b2f14466917",
   "metadata": {},
   "source": [
    "This is a workplace scenario project proposed within the syllabus of IBM Data Analyst Professional Certificate on Coursera."
   ]
  }
 ],
 "metadata": {
  "kernelspec": {
   "display_name": "Python 3 (ipykernel)",
   "language": "python",
   "name": "python3"
  },
  "language_info": {
   "codemirror_mode": {
    "name": "ipython",
    "version": 3
   },
   "file_extension": ".py",
   "mimetype": "text/x-python",
   "name": "python",
   "nbconvert_exporter": "python",
   "pygments_lexer": "ipython3",
   "version": "3.11.5"
  }
 },
 "nbformat": 4,
 "nbformat_minor": 4
}
